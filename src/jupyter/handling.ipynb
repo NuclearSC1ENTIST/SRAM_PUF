{
 "cells": [
  {
   "cell_type": "code",
   "execution_count": 1,
   "metadata": {},
   "outputs": [],
   "source": [
    "# %load_ext autoreload\n",
    "# %autoreload 2\n",
    "import pymongo\n",
    "\n",
    "import numpy as np\n",
    "import pandas as pd\n",
    "\n",
    "from util import *"
   ]
  },
  {
   "cell_type": "code",
   "execution_count": 2,
   "metadata": {},
   "outputs": [],
   "source": [
    "# Configuration of the database\n",
    "client = pymongo.MongoClient(\"mongodb://localhost:27017/\")\n",
    "database = client['thesis']\n",
    "db_dumps = database['dumps']\n",
    "db_boards = database['boards']\n",
    "\n",
    "# Configuration of data frames\n",
    "pd.set_option('display.max_columns', None)\n",
    "pd.set_option('display.max_rows', None)\n",
    "pd.set_option('display.max_colwidth', -1)"
   ]
  },
  {
   "cell_type": "markdown",
   "metadata": {},
   "source": [
    "## Extracción de los parametros de una placa\n",
    "\n",
    "En el id de 96 bits de una placa estan codificados, por orden:\n",
    "\n",
    "Oblea, Lote, Coordenada X en la oblea y Coordenada Y en la oblea."
   ]
  },
  {
   "cell_type": "code",
   "execution_count": 3,
   "metadata": {},
   "outputs": [],
   "source": [
    "boards_ids = list(set(i['board_id'] for i in db_dumps.find({},{\"_id\": 0, \"board_id\": 1})))\n",
    "boards_ids_df = pd.DataFrame({'Board': boards_ids})\n",
    "\n",
    "num_boards = list(db_dumps.aggregate([{\"$group\": { \"_id\": \"$board_id\" }}, {\"$count\": \"boards\"}]))[0]['boards']\n",
    "\n",
    "boards_params_cols = ['Board', 'Type', 'Wafer', 'Lot', 'X', 'Y']\n",
    "boards_params_df = pd.DataFrame(columns=boards_params_cols)\n",
    "\n",
    "for board_id in boards_ids:\n",
    "    data = extract_board_params(board_id)\n",
    "    if db_dumps.count_documents({'board_id': board_id, 'mem_pos': '0x20005a00'}) > 0.:\n",
    "        data['Type'] = 64\n",
    "    else:\n",
    "        data['Type'] = 32\n",
    "    boards_params_df = boards_params_df.append(data, ignore_index=True)"
   ]
  },
  {
   "cell_type": "code",
   "execution_count": 4,
   "metadata": {},
   "outputs": [
    {
     "name": "stdout",
     "output_type": "stream",
     "text": [
      "206\n"
     ]
    }
   ],
   "source": [
    "print(len(boards_ids))"
   ]
  },
  {
   "cell_type": "code",
   "execution_count": 5,
   "metadata": {},
   "outputs": [],
   "source": [
    "boards_ids_df.to_csv('./csv/boards_ids.csv', index=False)\n",
    "boards_params_df.to_csv('./csv/boards_params.csv', index=False)"
   ]
  },
  {
   "cell_type": "markdown",
   "metadata": {},
   "source": [
    "# Union de todos los datos en una sola colection\n",
    "\n",
    "Aqui se combinan y se modifican todos los datos de la coleccion `dumps` para poder ser exportados y trabajados debidamente.\n",
    "\n",
    "En esta collecion, se combinan los datos de `boards_params.csv` con los datos de la colection `dumps`. Sin embargo, se han modificado los bytes de cada muestra para guardarse como bits individuales"
   ]
  },
  {
   "cell_type": "code",
   "execution_count": 10,
   "metadata": {},
   "outputs": [],
   "source": [
    "db_data = database['data']\n",
    "\n",
    "dumps_list = list(db_dumps.find()) \n",
    "\n",
    "# for dump in dumps_list[140458:]:\n",
    "for dump in dumps_list:\n",
    "    final_data = {}\n",
    "    final_data['_id'] = dump['_id']\n",
    "    \n",
    "    # Extraccion de parametros\n",
    "    data_params = extract_board_params(dump['board_id'])\n",
    "    final_data.update(data_params)\n",
    "    if db_dumps.count_documents({'board_id': dump['board_id'], 'mem_pos': '0x20005a00'}) > 0:\n",
    "        final_data['Type'] = 64\n",
    "    else:\n",
    "        final_data['Type'] = 32\n",
    "        \n",
    "    final_data['Mem_pos'] = dump['mem_pos']\n",
    "    final_data['Temp'] = dump['temp']\n",
    "    final_data['Vdd'] = dump['vdd']\n",
    "    \n",
    "    if isinstance(dump['temp_cal_30'], list) or isinstance(dump['temp_cal_30'], tuple): \n",
    "        final_data['Temp_cal_30'] = dump['temp_cal_30'][0]\n",
    "    else:\n",
    "        final_data['Temp_cal_30'] = dump['temp_cal_30']\n",
    "        \n",
    "    if isinstance(dump['temp_cal_110'], list) or isinstance(dump['temp_cal_110'], tuple): \n",
    "        final_data['Temp_cal_110'] = dump['temp_cal_110'][0]\n",
    "    else:\n",
    "        final_data['Temp_cal_110'] = dump['temp_cal_110']\n",
    "        \n",
    "    if isinstance(dump['vrefint_cal'], list) or isinstance(dump['vrefint_cal'], tuple): \n",
    "        final_data['Vrefint_cal'] = dump['vrefint_cal'][0]\n",
    "    else:\n",
    "        final_data['Vrefint_cal'] = dump['vrefint_cal']\n",
    "        \n",
    "        \n",
    "    final_data['Timestamp'] = dump['timestamp']\n",
    "    \n",
    "    # Conversion de los bytes a bit\n",
    "    bits_data = []\n",
    "    for byte in dump['data']:\n",
    "        bits_str = f'{byte:08b}'\n",
    "        bits_data += [int(b) for b in list(bits_str)]\n",
    "        \n",
    "    final_data['Data'] = bits_data\n",
    "    \n",
    "#    db_data.insert_one(final_data)\n",
    "    try:\n",
    "        db_data.insert_one(final_data)\n",
    "    except:\n",
    "        continue"
   ]
  },
  {
   "cell_type": "markdown",
   "metadata": {},
   "source": [
    "# Extraccion de la base de datos"
   ]
  },
  {
   "cell_type": "code",
   "execution_count": null,
   "metadata": {},
   "outputs": [],
   "source": [
    "full_db_df = pd.DataFrame(columns=['Board', 'Type', 'Wafer', 'Lot', 'X', 'Y', ''])"
   ]
  },
  {
   "cell_type": "markdown",
   "metadata": {},
   "source": [
    "## Comparación de las regiones en todas las placas\n",
    "\n",
    "Para todas las placas, comparamos dos muestras de la misma region y calculamos cuantos bytes han variado."
   ]
  },
  {
   "cell_type": "code",
   "execution_count": null,
   "metadata": {},
   "outputs": [],
   "source": [
    "regions_in_memory = sorted(list(set(i['mem_pos'] for i in db_dumps.find({\"board_id\": boards_ids[0]}))))\n",
    "regions_in_memory_df = pd.DataFrame({'Region': regions_in_memory})\n",
    "\n",
    "diffs_regions_all_boards_df = pd.DataFrame(columns=['Board', 'Region', 'Id_1', 'Id_2', 'Diff'])\n",
    "\n",
    "for bid in boards_ids:\n",
    "    df = pd.DataFrame(columns=['Board', 'Region', 'Id_1', 'Id_2', 'Diff'])\n",
    "    data = compare_dumps_one_board(bid, df)\n",
    "    diffs_regions_all_boards_df = diffs_regions_all_boards_df.append(data, ignore_index=True)"
   ]
  },
  {
   "cell_type": "code",
   "execution_count": null,
   "metadata": {},
   "outputs": [],
   "source": [
    "diffs_regions_all_boards_df.to_csv('./csv/diffs_regions_all_boards.csv', index=False)"
   ]
  },
  {
   "cell_type": "markdown",
   "metadata": {},
   "source": [
    "## Promedio de las diferencias de las regiones en todas las placas\n",
    "\n",
    "Creamos un promedio de los datos anteriores para tener una visión general."
   ]
  },
  {
   "cell_type": "code",
   "execution_count": null,
   "metadata": {},
   "outputs": [],
   "source": [
    "region_diffs_cols = [\"Region\", \"Mean_Diff\", \"Median\", \"Std_Dev\", \"Num_Samples\"]\n",
    "region_diffs_df = pd.DataFrame(columns=region_diffs_cols)\n",
    "\n",
    "for region in regions_in_memory:\n",
    "    samples_region = diffs_regions_all_boards_df[diffs_regions_all_boards_df['Region'] == region]\n",
    "\n",
    "    data_dict = {'Region': region,\n",
    "                 'Mean_Diff': samples_region['Diff'].mean(),\n",
    "                 'Median': samples_region['Diff'].median(),\n",
    "                 'Std_Dev': samples_region['Diff'].std(),\n",
    "                 'Num_Samples': len(samples_region['Diff'].index)\n",
    "                }\n",
    "    region_diffs_df = region_diffs_df.append(data_dict, ignore_index=True)"
   ]
  },
  {
   "cell_type": "code",
   "execution_count": null,
   "metadata": {},
   "outputs": [],
   "source": [
    "region_diffs_df.to_csv('./csv/diffs_regions_all_boards_summary.csv', index=False)"
   ]
  },
  {
   "cell_type": "markdown",
   "metadata": {},
   "source": [
    "## Diferencias de muestras entre placas\n",
    "\n",
    "Ahora comparamos muestras de una region de memoria en dos placas.\n",
    "Hay que comprobar la misma zona en dos placas para ver la variacion entre placas."
   ]
  },
  {
   "cell_type": "code",
   "execution_count": null,
   "metadata": {},
   "outputs": [],
   "source": [
    "import multiprocessing as mp\n",
    "\n",
    "diffs_regions_pair_boards_cols = ['Region', 'Board_1', 'Board_2', 'Id_1', 'Id_2', 'Diff']\n",
    "diffs_regions_pair_boards_df = pd.DataFrame(columns=diffs_regions_pair_boards_cols)\n",
    "\n",
    "pool = mp.Pool(mp.cpu_count())\n",
    "\n",
    "board_pairs = list(combinations(boards_ids, 2))\n",
    "\n",
    "for region in regions_in_memory:\n",
    "    \n",
    "    for (board_1, board_2) in board_pairs:\n",
    "        dumps_board_1 = list(db_dumps.find({'board_id': board_1, 'mem_pos':region}))\n",
    "        dumps_board_2 = list(db_dumps.find({'board_id': board_2, 'mem_pos':region}))\n",
    "        \n",
    "        num_samples = min(len(dumps_board_1), len(dumps_board_2))\n",
    "        \n",
    "        for sample in range(num_samples):\n",
    "            diff = calculate_diff(dumps_board_1[sample], dumps_board_2[sample])\n",
    "            \n",
    "            data_dict = {'Region': region,\n",
    "                         'Board_1': board_1,\n",
    "                         'Board_2': board_2,\n",
    "                         'Id_1': dumps_board_1[sample]['_id'],\n",
    "                         'Id_2': dumps_board_2[sample]['_id'],\n",
    "                         'Diff': diff \n",
    "                        }\n",
    "            diffs_regions_pair_boards_df = diffs_regions_pair_boards_df.append(data_dict, ignore_index=True)"
   ]
  },
  {
   "cell_type": "code",
   "execution_count": null,
   "metadata": {},
   "outputs": [],
   "source": [
    "diffs_regions_pair_boards_df.to_csv('./csv/diffs_regions_pair_boards.csv', index=False)"
   ]
  },
  {
   "cell_type": "code",
   "execution_count": null,
   "metadata": {},
   "outputs": [],
   "source": [
    "diffs_regions_pair_boards_summary_cols = ['Region', 'Mean_Diff', 'Median', 'Std_Dev', 'Num_Samples']\n",
    "diffs_regions_pair_boards_summary_df = pd.DataFrame(columns=diffs_regions_pair_boards_summary_cols)\n",
    "\n",
    "for region in regions_in_memory:\n",
    "    samples_region = diffs_regions_pair_boards_df[diffs_regions_pair_boards_df['Region'] == region]\n",
    "\n",
    "    data_dict = {'Region': region,\n",
    "                 'Mean_Diff': samples_region['Diff'].mean(),\n",
    "                 'Median': samples_region['Diff'].median(),\n",
    "                 'Std_Dev': samples_region['Diff'].std(),\n",
    "                 'Num_Samples': len(samples_region['Diff'].index)\n",
    "                }\n",
    "    diffs_regions_pair_boards_summary_df = diffs_regions_pair_boards_summary_df.append(data_dict, ignore_index=True)"
   ]
  },
  {
   "cell_type": "code",
   "execution_count": null,
   "metadata": {},
   "outputs": [],
   "source": [
    "diffs_regions_pair_boards_summary_df.to_csv('./csv/diffs_regions_pair_boards_summary.csv', index=False)"
   ]
  },
  {
   "cell_type": "code",
   "execution_count": null,
   "metadata": {},
   "outputs": [],
   "source": []
  }
 ],
 "metadata": {
  "kernelspec": {
   "display_name": "Python 3",
   "language": "python",
   "name": "python3"
  },
  "language_info": {
   "codemirror_mode": {
    "name": "ipython",
    "version": 3
   },
   "file_extension": ".py",
   "mimetype": "text/x-python",
   "name": "python",
   "nbconvert_exporter": "python",
   "pygments_lexer": "ipython3",
   "version": "3.8.0"
  }
 },
 "nbformat": 4,
 "nbformat_minor": 4
}
