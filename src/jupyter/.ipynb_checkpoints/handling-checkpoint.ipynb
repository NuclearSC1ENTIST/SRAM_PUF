{
 "cells": [
  {
   "cell_type": "code",
   "execution_count": 1,
   "metadata": {},
   "outputs": [],
   "source": [
    "# %load_ext autoreload\n",
    "# %autoreload 2\n",
    "import pymongo\n",
    "\n",
    "import numpy as np\n",
    "import pandas as pd\n",
    "\n",
    "from util import *"
   ]
  },
  {
   "cell_type": "code",
   "execution_count": 2,
   "metadata": {},
   "outputs": [],
   "source": [
    "# Configuration of the database\n",
    "client = pymongo.MongoClient(\"mongodb://localhost:27017/\")\n",
    "database = client['thesis']\n",
    "db_dumps = database['dumps']\n",
    "db_boards = database['boards']\n",
    "\n",
    "# Configuration of data frames\n",
    "pd.set_option('display.max_columns', None)\n",
    "pd.set_option('display.max_rows', None)\n",
    "pd.set_option('display.max_colwidth', -1)"
   ]
  },
  {
   "cell_type": "markdown",
   "metadata": {},
   "source": [
    "## Extracción de los parametros de una placa\n",
    "\n",
    "En el id de 96 bits de una placa estan codificados, por orden:\n",
    "\n",
    "Oblea, Lote, Coordenada X en la oblea y Coordenada Y en la oblea."
   ]
  },
  {
   "cell_type": "code",
   "execution_count": 3,
   "metadata": {},
   "outputs": [],
   "source": [
    "boards_ids = list(set(i['board_id'] for i in db_dumps.find({},{\"_id\": 0, \"board_id\": 1})))\n",
    "boards_ids_df = pd.DataFrame({'Board': boards_ids})\n",
    "\n",
    "boards_params_cols = ['Board', 'Wafer', 'Lot', 'X', 'Y']\n",
    "boards_params_df = pd.DataFrame(columns=boards_params_cols)\n",
    "\n",
    "for board_id in boards_ids:\n",
    "    data = extract_board_params(board_id)\n",
    "    boards_params_df = boards_params_df.append(data, ignore_index=True)"
   ]
  },
  {
   "cell_type": "code",
   "execution_count": 4,
   "metadata": {},
   "outputs": [],
   "source": [
    "boards_ids_df.to_csv('./csv/boards_ids.csv', index=False)\n",
    "boards_params_df.to_csv('./csv/boards_params.csv', index=False)"
   ]
  },
  {
   "cell_type": "markdown",
   "metadata": {},
   "source": [
    "## Comparación de las regiones en todas las placas\n",
    "\n",
    "Para todas las placas, comparamos dos muestras de la misma region y calculamos cuantos bytes han variado."
   ]
  },
  {
   "cell_type": "code",
   "execution_count": 5,
   "metadata": {},
   "outputs": [],
   "source": [
    "regions_in_memory = sorted(list(set(i['mem_pos'] for i in db_dumps.find({\"board_id\": boards_ids[0]}))))\n",
    "regions_in_memory_df = pd.DataFrame({'Region': regions_in_memory})\n",
    "\n",
    "diffs_regions_all_boards_df = pd.DataFrame(columns=['Board', 'Region', 'Id_1', 'Id_2', 'Diff'])\n",
    "\n",
    "for bid in boards_ids:\n",
    "    df = pd.DataFrame(columns=['Board', 'Region', 'Id_1', 'Id_2', 'Diff'])\n",
    "    data = compare_dumps_one_board(bid, df)\n",
    "    diffs_regions_all_boards_df = diffs_regions_all_boards_df.append(data, ignore_index=True)"
   ]
  },
  {
   "cell_type": "code",
   "execution_count": 6,
   "metadata": {},
   "outputs": [],
   "source": [
    "diffs_regions_all_boards_df.to_csv('./csv/diffs_regions_all_boards.csv', index=False)"
   ]
  },
  {
   "cell_type": "markdown",
   "metadata": {},
   "source": [
    "## Promedio de las diferencias de las regiones en todas las placas\n",
    "\n",
    "Creamos un promedio de los datos anteriores para tener una visión general."
   ]
  },
  {
   "cell_type": "code",
   "execution_count": 7,
   "metadata": {},
   "outputs": [],
   "source": [
    "region_diffs_cols = [\"Region\", \"Mean_Diff\", \"Median\", \"Std_Dev\", \"Num_Samples\"]\n",
    "region_diffs_df = pd.DataFrame(columns=region_diffs_cols)\n",
    "\n",
    "for region in regions_in_memory:\n",
    "    samples_region = diffs_regions_all_boards_df[diffs_regions_all_boards_df['Region'] == region]\n",
    "\n",
    "    data_dict = {'Region': region,\n",
    "                 'Mean_Diff': samples_region['Diff'].mean(),\n",
    "                 'Median': samples_region['Diff'].median(),\n",
    "                 'Std_Dev': samples_region['Diff'].std(),\n",
    "                 'Num_Samples': len(samples_region['Diff'].index)\n",
    "                }\n",
    "    region_diffs_df = region_diffs_df.append(data_dict, ignore_index=True)"
   ]
  },
  {
   "cell_type": "code",
   "execution_count": 8,
   "metadata": {},
   "outputs": [],
   "source": [
    "region_diffs_df.to_csv('./csv/diffs_regions_all_boards_summary.csv', index=False)"
   ]
  },
  {
   "cell_type": "markdown",
   "metadata": {},
   "source": [
    "## Diferencias de muestras entre placas\n",
    "\n",
    "Ahora comparamos muestras de una region de memoria en dos placas.\n",
    "Hay que comprobar la misma zona en dos placas para ver la variacion entre placas."
   ]
  },
  {
   "cell_type": "code",
   "execution_count": 9,
   "metadata": {},
   "outputs": [
    {
     "ename": "NameError",
     "evalue": "name 'all_regions_pair_boards_cols' is not defined",
     "output_type": "error",
     "traceback": [
      "\u001b[0;31m---------------------------------------------------------------------------\u001b[0m",
      "\u001b[0;31mNameError\u001b[0m                                 Traceback (most recent call last)",
      "\u001b[0;32m<ipython-input-9-5cd5c3d16f04>\u001b[0m in \u001b[0;36m<module>\u001b[0;34m\u001b[0m\n\u001b[1;32m      2\u001b[0m \u001b[0;34m\u001b[0m\u001b[0m\n\u001b[1;32m      3\u001b[0m \u001b[0mdiffs_regions_pair_boards_cols\u001b[0m \u001b[0;34m=\u001b[0m \u001b[0;34m[\u001b[0m\u001b[0;34m'Region'\u001b[0m\u001b[0;34m,\u001b[0m \u001b[0;34m'Board_1'\u001b[0m\u001b[0;34m,\u001b[0m \u001b[0;34m'Board_2'\u001b[0m\u001b[0;34m,\u001b[0m \u001b[0;34m'Id_1'\u001b[0m\u001b[0;34m,\u001b[0m \u001b[0;34m'Id_2'\u001b[0m\u001b[0;34m,\u001b[0m \u001b[0;34m'Diff'\u001b[0m\u001b[0;34m]\u001b[0m\u001b[0;34m\u001b[0m\u001b[0;34m\u001b[0m\u001b[0m\n\u001b[0;32m----> 4\u001b[0;31m \u001b[0mdiffs_regions_pair_boards_df\u001b[0m \u001b[0;34m=\u001b[0m \u001b[0mpd\u001b[0m\u001b[0;34m.\u001b[0m\u001b[0mDataFrame\u001b[0m\u001b[0;34m(\u001b[0m\u001b[0mcolumns\u001b[0m\u001b[0;34m=\u001b[0m\u001b[0mall_regions_pair_boards_cols\u001b[0m\u001b[0;34m)\u001b[0m\u001b[0;34m\u001b[0m\u001b[0;34m\u001b[0m\u001b[0m\n\u001b[0m\u001b[1;32m      5\u001b[0m \u001b[0;34m\u001b[0m\u001b[0m\n\u001b[1;32m      6\u001b[0m \u001b[0mpool\u001b[0m \u001b[0;34m=\u001b[0m \u001b[0mmp\u001b[0m\u001b[0;34m.\u001b[0m\u001b[0mPool\u001b[0m\u001b[0;34m(\u001b[0m\u001b[0mmp\u001b[0m\u001b[0;34m.\u001b[0m\u001b[0mcpu_count\u001b[0m\u001b[0;34m(\u001b[0m\u001b[0;34m)\u001b[0m\u001b[0;34m)\u001b[0m\u001b[0;34m\u001b[0m\u001b[0;34m\u001b[0m\u001b[0m\n",
      "\u001b[0;31mNameError\u001b[0m: name 'all_regions_pair_boards_cols' is not defined"
     ]
    }
   ],
   "source": [
    "import multiprocessing as mp\n",
    "\n",
    "diffs_regions_pair_boards_cols = ['Region', 'Board_1', 'Board_2', 'Id_1', 'Id_2', 'Diff']\n",
    "diffs_regions_pair_boards_df = pd.DataFrame(columns=diffs_regions_pair_boards_cols)\n",
    "\n",
    "pool = mp.Pool(mp.cpu_count())\n",
    "\n",
    "board_pairs = list(combinations(boards_ids, 2))\n",
    "\n",
    "for region in regions_in_memory:\n",
    "    \n",
    "    for (board_1, board_2) in board_pairs:\n",
    "        dumps_board_1 = list(db_dumps.find({'board_id': board_1, 'mem_pos':region}))\n",
    "        dumps_board_2 = list(db_dumps.find({'board_id': board_2, 'mem_pos':region}))\n",
    "        \n",
    "        num_samples = min(len(dumps_board_1), len(dumps_board_2))\n",
    "        \n",
    "        for sample in range(num_samples):\n",
    "            diff = calculate_diff(dumps_board_1[sample], dumps_board_2[sample])\n",
    "            \n",
    "            data_dict = {'Region': region,\n",
    "                         'Board_1': board_1,\n",
    "                         'Board_2': board_2,\n",
    "                         'Id_1': dumps_board_1[sample]['_id'],\n",
    "                         'Id_2': dumps_board_2[sample]['_id'],\n",
    "                         'Diff': diff \n",
    "                        }\n",
    "            diffs_regions_pair_boards_df = diffs_regions_pair_boards_df.append(data_dict, ignore_index=True)"
   ]
  },
  {
   "cell_type": "code",
   "execution_count": null,
   "metadata": {},
   "outputs": [],
   "source": [
    "diffs_regions_pair_boards_df.to_csv('./csv/diffs_regions_pair_boards.csv', index=False)"
   ]
  },
  {
   "cell_type": "code",
   "execution_count": null,
   "metadata": {},
   "outputs": [],
   "source": [
    "diffs_regions_pair_boards_summary_cols = ['Region', 'Mean_Diff', 'Median', 'Std_Dev', 'Num_Samples']\n",
    "diffs_regions_pair_boards_summary_df = pd.DataFrame(columns=all_regions_pair_boards_summary_cols)\n",
    "\n",
    "for region in regions_in_memory:\n",
    "    samples_region = diffs_regions_pair_boards_df[diffs_regions_pair_boards_df['Region'] == region]\n",
    "\n",
    "    data_dict = {'Region': region,\n",
    "                 'Mean_Diff': samples_region['Diff'].mean(),\n",
    "                 'Median': samples_region['Diff'].median(),\n",
    "                 'Std_Dev': samples_region['Diff'].std(),\n",
    "                 'Num_Samples': len(samples_region['Diff'].index)\n",
    "                }\n",
    "    diffs_regions_pair_boards_summary_df = diffs_regions_pair_boards_summary_df.append(data_dict, ignore_index=True)"
   ]
  },
  {
   "cell_type": "code",
   "execution_count": null,
   "metadata": {},
   "outputs": [],
   "source": [
    "diffs_regions_pair_boards_summary_df.to_csv('./csv/diffs_regions_pair_boards_summary.csv', index=False)\n",
    "diffs_regions_pair_boards_summary_df"
   ]
  },
  {
   "cell_type": "code",
   "execution_count": null,
   "metadata": {},
   "outputs": [],
   "source": []
  }
 ],
 "metadata": {
  "kernelspec": {
   "display_name": "Python 3",
   "language": "python",
   "name": "python3"
  },
  "language_info": {
   "codemirror_mode": {
    "name": "ipython",
    "version": 3
   },
   "file_extension": ".py",
   "mimetype": "text/x-python",
   "name": "python",
   "nbconvert_exporter": "python",
   "pygments_lexer": "ipython3",
   "version": "3.7.4"
  }
 },
 "nbformat": 4,
 "nbformat_minor": 4
}
