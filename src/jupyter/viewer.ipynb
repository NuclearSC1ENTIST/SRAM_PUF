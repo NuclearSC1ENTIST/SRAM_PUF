{
 "cells": [
  {
   "cell_type": "code",
   "execution_count": 1,
   "metadata": {},
   "outputs": [],
   "source": [
    "# %%javascript\n",
    "# IPython.OutputArea.prototype._should_scroll = function(lines) {\n",
    "#     return false;\n",
    "# }"
   ]
  },
  {
   "cell_type": "code",
   "execution_count": 2,
   "metadata": {
    "scrolled": true,
    "slideshow": {
     "slide_type": "skip"
    }
   },
   "outputs": [],
   "source": [
    "import pymongo\n",
    "\n",
    "import numpy as np\n",
    "import pandas as pd\n",
    "\n",
    "import seaborn as sns\n",
    "import matplotlib.pyplot as plt\n",
    "import matplotlib.ticker as ticker\n",
    "\n",
    "from viewing import *\n",
    "from util import *"
   ]
  },
  {
   "cell_type": "code",
   "execution_count": 3,
   "metadata": {
    "scrolled": true,
    "slideshow": {
     "slide_type": "slide"
    }
   },
   "outputs": [],
   "source": [
    "boards_ids_df = pd.read_csv('./csv/boards_ids.csv', index_col=None)\n",
    "boards_ids = boards_ids_df['Board'].values.tolist()\n",
    "\n",
    "boards_params_df = pd.read_csv('./csv/boards_params.csv', index_col=None)"
   ]
  },
  {
   "cell_type": "code",
   "execution_count": 4,
   "metadata": {
    "scrolled": true,
    "slideshow": {
     "slide_type": "subslide"
    }
   },
   "outputs": [],
   "source": [
    "# Configuration of data frames\n",
    "pd.set_option('display.max_columns', None)\n",
    "pd.set_option('display.max_rows', None)\n",
    "pd.set_option('display.max_colwidth', -1)\n",
    "\n",
    "# Configuration of matplotlib and seaborn\n",
    "plt.rcParams['xtick.labelsize'] = 16\n",
    "plt.rcParams['ytick.labelsize']= 16\n",
    "plt.rcParams['axes.titlesize']= 18\n",
    "plt.rcParams['axes.labelsize']= 18 \n",
    "plt.rcParams['figure.titlesize']= 18\n",
    "plt.rcParams['figure.figsize'] = [28, 14]  # Scale up plots"
   ]
  },
  {
   "cell_type": "code",
   "execution_count": 5,
   "metadata": {
    "scrolled": true,
    "slideshow": {
     "slide_type": "slide"
    }
   },
   "outputs": [],
   "source": [
    "dropdown_wafer = widgets.Dropdown(options=create_dropdown_values(boards_params_df['Wafer']), \n",
    "                                  description='Oblea:')\n",
    "\n",
    "boards_ids_output = widgets.Output()\n",
    "summary_boards_out = widgets.Output()\n",
    "\n",
    "dropdown_boards_eh = generate_simple_eventhandler(boards_ids_output, \n",
    "                                                  boards_params_df, 'Wafer')\n",
    "\n",
    "dropdown_wafer.observe(dropdown_boards_eh, names='value')\n",
    "lista_placas = widgets.VBox([dropdown_wafer, boards_ids_output])\n",
    "\n",
    "with summary_boards_out:\n",
    "    print(\"Numero de placas: \" + str(len(boards_params_df['Board'].index)))\n",
    "    print(\"Numero de obleas: \" + str(len(set(boards_params_df['Wafer']))))\n",
    "    print(\"Numero de lotes : \" + str(len(set(boards_params_df['Lot']))))\n",
    "\n",
    "tab_boards_ids = widgets.Tab([lista_placas, summary_boards_out])\n",
    "tab_boards_ids.set_title(0, 'Lista de placas')\n",
    "tab_boards_ids.set_title(1, 'Resumen')"
   ]
  },
  {
   "cell_type": "markdown",
   "metadata": {},
   "source": [
    "# Parametros de identificación de una placa\n",
    "\n",
    "Cada placa posee un identificador de 96 bits.\n",
    "\n",
    "En cada ID se codifican, por orden:\n",
    "\n",
    "+ Oblea a la que pertenece el microprocesador.\n",
    "+ Lote al que pertenece el microprocesador.\n",
    "+ Coordenada X del microprocesador en la oblea.\n",
    "+ Coordenada Y del microprocesador en la oblea."
   ]
  },
  {
   "cell_type": "code",
   "execution_count": 6,
   "metadata": {},
   "outputs": [
    {
     "data": {
      "application/vnd.jupyter.widget-view+json": {
       "model_id": "b7c4cefb08d84c2ebc3448664f54de8b",
       "version_major": 2,
       "version_minor": 0
      },
      "text/plain": [
       "Tab(children=(VBox(children=(Dropdown(description='Oblea:', options=('Ninguno', 'Todos', 30, 34, 35), value='N…"
      ]
     },
     "metadata": {},
     "output_type": "display_data"
    }
   ],
   "source": [
    "display(tab_boards_ids)"
   ]
  },
  {
   "cell_type": "code",
   "execution_count": 7,
   "metadata": {
    "scrolled": true,
    "slideshow": {
     "slide_type": "slide"
    }
   },
   "outputs": [],
   "source": [
    "diffs_regions_all_df = pd.read_csv('./csv/diffs_regions_all_boards.csv', index_col=None)\n",
    "diffs_regions_all_df.sort_values(['Region'], ascending=[True], inplace=True)\n",
    "\n",
    "diffs_regions_summary_df = pd.read_csv('./csv/diffs_regions_all_boards_summary.csv')"
   ]
  },
  {
   "cell_type": "code",
   "execution_count": 8,
   "metadata": {
    "scrolled": true,
    "slideshow": {
     "slide_type": "slide"
    },
    "tags": [
     "hide"
    ]
   },
   "outputs": [],
   "source": [
    "dropdown_region = widgets.Dropdown(options=create_dropdown_values(diffs_regions_all_df['Region']), \n",
    "                                   description='Region:')\n",
    "\n",
    "regions_output = widgets.Output()\n",
    "plot_regions_output = widgets.Output()\n",
    "region_summary_output = widgets.Output()\n",
    "\n",
    "blue_sns_palette = sns.color_palette(\"ch:3.5,-.3,dark=1\")\n",
    "\n",
    "with region_summary_output:\n",
    "    display(diffs_regions_summary_df)\n",
    "\n",
    "def dropdown_region_eh(change):\n",
    "        regions_output.clear_output()\n",
    "        plot_regions_output.clear_output()\n",
    "        \n",
    "        if (change.new == 'Ninguno'):\n",
    "            regions_output.clear_output()\n",
    "            plot_regions_output.clear_output()\n",
    "            \n",
    "        elif (change.new == 'Todos'):\n",
    "            with regions_output:\n",
    "                display(diffs_regions_all_df[['Board', 'Region', 'Diff']])\n",
    "            fig, ax = plt.subplots()\n",
    "            fig.set_size_inches(28, 180)\n",
    "            ax = sns.violinplot(y=\"Region\", x=\"Diff\", data=diffs_regions_all_df, \n",
    "                                inner='point', linewidth=3.0, cut=0.0, \n",
    "                                orient='h', scale='count', palette=blue_sns_palette)\n",
    "            ax.xaxis.set_major_locator(plt.MultipleLocator(5))\n",
    "            figure = ax.get_figure()\n",
    "            figure.savefig('./img/diffs_regions_all.png')\n",
    "            \n",
    "            with plot_regions_output:\n",
    "                display(plt.show())\n",
    "\n",
    "        else:\n",
    "            data_df = diffs_regions_all_df[diffs_regions_all_df['Region'] == change.new]\n",
    "            with regions_output:\n",
    "                display(data_df[['Board', 'Region', 'Diff']])\n",
    "\n",
    "            fig, ax = plt.subplots()\n",
    "            ax = sns.violinplot(y=\"Region\", x=\"Diff\", data=data_df,\n",
    "                                orient='h',cut=0.0,\n",
    "                                linewidth=4.0, palette=blue_sns_palette)\n",
    "            ax.xaxis.set_major_locator(plt.MultipleLocator(5))\n",
    "            \n",
    "            with plot_regions_output:\n",
    "                display(plt.show())\n",
    "\n",
    "            \n",
    "dropdown_region.observe(dropdown_region_eh, names='value')\n",
    "\n",
    "tab_regions_all = widgets.Tab([regions_output, plot_regions_output, region_summary_output])\n",
    "tab_regions_all.set_title(0, 'Diffs de regiones')\n",
    "tab_regions_all.set_title(1, 'Distribucion')\n",
    "tab_regions_all.set_title(2, 'Resumen')"
   ]
  },
  {
   "cell_type": "markdown",
   "metadata": {},
   "source": [
    "# Comparación de muestras en una placa\n",
    "\n",
    "+ En la primera pestaña se puede ver las diferencias entre muestras para la region seleccionada.\n",
    "+ En la pestaña distribución se puede ver la distribución de los datos de todas las placas.\n",
    "  + Al seleccionar una sola region, en el centro del gráfico aparece un boxplot para resumir los datos.\n",
    "  + Al seleccionar todas las regiones, aparecen las muestras representadas como puntos.\n",
    "+ En la pestaña resumen, se puede ver un resumen global con los datos de todas las placas.\n",
    "\n",
    "> Las gráficas de violin te representan la diferencia entre muestras en el eje X y la distribucion de las muestras en el eje Y."
   ]
  },
  {
   "cell_type": "code",
   "execution_count": 9,
   "metadata": {},
   "outputs": [
    {
     "data": {
      "application/vnd.jupyter.widget-view+json": {
       "model_id": "610a8469db2c4770a3bb2af1f3e4de6a",
       "version_major": 2,
       "version_minor": 0
      },
      "text/plain": [
       "Dropdown(description='Region:', options=('Ninguno', 'Todos', '0x20000000', '0x20000200', '0x20000400', '0x2000…"
      ]
     },
     "metadata": {},
     "output_type": "display_data"
    },
    {
     "data": {
      "application/vnd.jupyter.widget-view+json": {
       "model_id": "9cfc01ded0404e7382ef6dc6cd4a498b",
       "version_major": 2,
       "version_minor": 0
      },
      "text/plain": [
       "Tab(children=(Output(), Output(), Output()), _titles={'0': 'Diffs de regiones', '1': 'Distribucion', '2': 'Res…"
      ]
     },
     "metadata": {},
     "output_type": "display_data"
    }
   ],
   "source": [
    "display(dropdown_region)\n",
    "display(tab_regions_all)"
   ]
  },
  {
   "cell_type": "code",
   "execution_count": 10,
   "metadata": {
    "scrolled": true
   },
   "outputs": [],
   "source": [
    "diffs_regions_pairs_boards_df = pd.read_csv('./csv/diffs_regions_pair_boards.csv', index_col=None)\n",
    "diffs_regions_pairs_boards_df.sort_values(['Region'], ascending=[True], inplace=True)\n",
    "\n",
    "diffs_regions_pairs_boards_summary_df = pd.read_csv('./csv/diffs_regions_pair_boards_summary.csv', index_col=None)"
   ]
  },
  {
   "cell_type": "code",
   "execution_count": 11,
   "metadata": {
    "scrolled": true
   },
   "outputs": [],
   "source": [
    "dropdown_pairs_region = widgets.Dropdown(options=create_dropdown_values(diffs_regions_pairs_boards_df['Region']), \n",
    "                                         description='Region:')\n",
    "\n",
    "pairs_output = widgets.Output()\n",
    "plot_pairs_output = widgets.Output()\n",
    "pairs_summary_output = widgets.Output()\n",
    "\n",
    "with pairs_summary_output:\n",
    "    display(diffs_regions_pairs_boards_summary_df)\n",
    "\n",
    "def dropdown_pairs_eh(change):\n",
    "        pairs_output.clear_output()\n",
    "        plot_pairs_output.clear_output()\n",
    "        \n",
    "        if (change.new == 'Ninguno'):\n",
    "            regions_output.clear_output()\n",
    "            plot_pairs_output.clear_output()\n",
    "            \n",
    "        elif (change.new == 'Todos'):\n",
    "            with pairs_output:\n",
    "                display(diffs_regions_pairs_boards_df[['Region', 'Board_1', 'Board_2', 'Diff']])\n",
    "            fig, ax = plt.subplots()\n",
    "            fig.set_size_inches(28, 180)\n",
    "            ax = sns.violinplot(y=\"Region\", x=\"Diff\", data=diffs_regions_pairs_boards_df, \n",
    "                                inner='point', linewidth=3.0, cut=0.0, \n",
    "                                orient='h', scale='count', palette=blue_sns_palette)\n",
    "            ax.xaxis.set_major_locator(plt.MultipleLocator(5))\n",
    "            figure = ax.get_figure()\n",
    "            figure.savefig('./img/diffs_regions_pairs_boards.png')\n",
    "            \n",
    "            with plot_pairs_output:\n",
    "                display(plt.show())\n",
    "\n",
    "        else:\n",
    "            data_df = diffs_regions_pairs_boards_df[diffs_regions_pairs_boards_df['Region'] == change.new]\n",
    "            \n",
    "            with pairs_output:\n",
    "                display(data_df[['Region', 'Board_1', 'Board_2', 'Diff']])\n",
    "\n",
    "            ax = sns.violinplot(y=\"Region\", x=\"Diff\", data=data_df,\n",
    "                                orient='h',cut=0.0,\n",
    "                                linewidth=4.0, palette=blue_sns_palette)\n",
    "            ax.xaxis.set_major_locator(plt.MultipleLocator(5))\n",
    "            \n",
    "            with plot_pairs_output:\n",
    "                display(plt.show())\n",
    "\n",
    "            \n",
    "dropdown_pairs_region.observe(dropdown_pairs_eh, names='value')\n",
    "\n",
    "tab_regions_pairs = widgets.Tab([pairs_output, plot_pairs_output, pairs_summary_output])\n",
    "tab_regions_pairs.set_title(0, 'Diffs de regiones')\n",
    "tab_regions_pairs.set_title(1, 'Distribucion')\n",
    "tab_regions_pairs.set_title(2, 'Resumen')"
   ]
  },
  {
   "cell_type": "markdown",
   "metadata": {},
   "source": [
    "# Comparación de muestras de la misma región entre placas\n",
    "\n",
    "Ahora se han comparado las muestras de la misma región entre distintas placas.\n",
    "\n",
    "+ En la primera pestaña se puede ver las diferencias entre muestras de la misma region para todas las placas.\n",
    "+ En la pestaña distribución se puede ver la distribución de los datos de todas las placas.\n",
    "  + Las gráficas de violin te representan la diferencia entre muestras en el eje X y la distribución de las muestras en el eje Y.\n",
    "+ En la pestaña resumen, se puede ver un resumen global con los datos de todas las zonas.\n",
    "\n",
    "> Hay una gran cantidad de datos, por lo que al escoger Todos, es muy probable que tarde en mostrar los datos."
   ]
  },
  {
   "cell_type": "code",
   "execution_count": 12,
   "metadata": {},
   "outputs": [
    {
     "data": {
      "application/vnd.jupyter.widget-view+json": {
       "model_id": "fe4da4562c2b426ab71a632f760d4480",
       "version_major": 2,
       "version_minor": 0
      },
      "text/plain": [
       "Dropdown(description='Region:', options=('Ninguno', 'Todos', '0x20000000', '0x20000200', '0x20000400', '0x2000…"
      ]
     },
     "metadata": {},
     "output_type": "display_data"
    },
    {
     "data": {
      "application/vnd.jupyter.widget-view+json": {
       "model_id": "d02209c6d6ad4a4c8abb516faaaf352c",
       "version_major": 2,
       "version_minor": 0
      },
      "text/plain": [
       "Tab(children=(Output(), Output(), Output()), _titles={'0': 'Diffs de regiones', '1': 'Distribucion', '2': 'Res…"
      ]
     },
     "metadata": {},
     "output_type": "display_data"
    }
   ],
   "source": [
    "display(dropdown_pairs_region)\n",
    "display(tab_regions_pairs)"
   ]
  }
 ],
 "metadata": {
  "kernelspec": {
   "display_name": "Python 3",
   "language": "python",
   "name": "python3"
  },
  "language_info": {
   "codemirror_mode": {
    "name": "ipython",
    "version": 3
   },
   "file_extension": ".py",
   "mimetype": "text/x-python",
   "name": "python",
   "nbconvert_exporter": "python",
   "pygments_lexer": "ipython3",
   "version": "3.7.4"
  }
 },
 "nbformat": 4,
 "nbformat_minor": 4
}
