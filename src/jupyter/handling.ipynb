{
 "cells": [
  {
   "cell_type": "code",
   "execution_count": 16,
   "metadata": {},
   "outputs": [],
   "source": [
    "import pymongo\n",
    "\n",
    "import numpy as np\n",
    "import pandas as pd\n",
    "\n",
    "from util import *"
   ]
  },
  {
   "cell_type": "code",
   "execution_count": 17,
   "metadata": {},
   "outputs": [],
   "source": [
    "# Configuration of the database\n",
    "client = pymongo.MongoClient(\"mongodb://localhost:27017/\")\n",
    "database = client['thesis']\n",
    "db_dumps = database['dumps']\n",
    "db_boards = database['boards']\n",
    "\n",
    "# Configuration of data frames\n",
    "pd.set_option('display.max_columns', None)\n",
    "pd.set_option('display.max_rows', None)\n",
    "pd.set_option('display.max_colwidth', -1)"
   ]
  },
  {
   "cell_type": "code",
   "execution_count": 18,
   "metadata": {},
   "outputs": [],
   "source": [
    "# Extract useful data from the board id\n",
    "extracted_ids_cols = ['Board', 'Wafer', 'Lot', 'X', 'Y']\n",
    "extracted_ids_df = pd.DataFrame(columns=extracted_ids_cols)\n",
    "\n",
    "boards_ids = list(set(i['board_id'] for i in db_dumps.find({},{\"_id\": 0, \"board_id\": 1})))\n",
    "\n",
    "for board_id in boards_ids:\n",
    "    data = extract_board_params(board_id)\n",
    "    extracted_ids_df = extracted_ids_df.append(data, ignore_index=True)"
   ]
  },
  {
   "cell_type": "code",
   "execution_count": 19,
   "metadata": {},
   "outputs": [],
   "source": [
    "extracted_ids_df.to_csv('./extracted_ids.csv', index=False)"
   ]
  },
  {
   "cell_type": "code",
   "execution_count": 21,
   "metadata": {},
   "outputs": [],
   "source": [
    "# Loop over all the regions and calculate the diff in their data\n",
    "# from all of the boards\n",
    "# Filter out the ones that are too high or too low\n",
    "regions_in_memory = sorted(list(set(i['mem_pos'] for i in db_dumps.find({\"board_id\": boards_ids[0]}))))\n",
    "\n",
    "final_df = pd.DataFrame(columns=['Board', 'Region', 'Id_1', 'Id_2', 'Diff'])\n",
    "\n",
    "# Compare all samples in all boards\n",
    "for bid in boards_ids:\n",
    "    df = pd.DataFrame(columns=['Board', 'Region', 'Id_1', 'Id_2', 'Diff'])\n",
    "    data = compare_dumps_one_board(bid, df)\n",
    "    final_df = final_df.append(data, ignore_index=True)"
   ]
  },
  {
   "cell_type": "code",
   "execution_count": 23,
   "metadata": {},
   "outputs": [],
   "source": [
    "final_df.to_csv('./all_boards_individual.csv', index=False)"
   ]
  },
  {
   "cell_type": "code",
   "execution_count": null,
   "metadata": {},
   "outputs": [],
   "source": [
    "# Calculate the mean diff and std_dev for all regions combining all data\n",
    "region_diffs_names = [\"Region\", \"Mean_Diff\", \"Median\", \"Std_Dev\", \"Num_Samples\"]\n",
    "region_diffs_df = pd.DataFrame(columns=region_diffs_names)"
   ]
  },
  {
   "cell_type": "code",
   "execution_count": 24,
   "metadata": {},
   "outputs": [],
   "source": [
    "# Calculate the mean diff and std_dev for all regions combining all data\n",
    "region_diffs_names = [\"Region\", \"Mean_Diff\", \"Median\", \"Std_Dev\", \"Num_Samples\"]\n",
    "region_diffs_df = pd.DataFrame(columns=region_diffs_names)\n",
    "\n",
    "for region in regions_in_memory:\n",
    "    samples_region = final_df[final_df['Region'] == region]\n",
    "\n",
    "    data_dict = {'Region': region,\n",
    "                 'Mean_Diff': samples_region['Diff'].mean(),\n",
    "                 'Median': samples_region['Diff'].median(),\n",
    "                 'Std_Dev': samples_region['Diff'].std(),\n",
    "                 'Num_Samples': len(samples_region['Diff'].index)\n",
    "                }\n",
    "    region_diffs_df = region_diffs_df.append(data_dict, ignore_index=True)"
   ]
  },
  {
   "cell_type": "code",
   "execution_count": 25,
   "metadata": {},
   "outputs": [],
   "source": [
    "region_diffs_df.to_csv('./all_regions_mean.csv', index=False)"
   ]
  },
  {
   "cell_type": "code",
   "execution_count": null,
   "metadata": {},
   "outputs": [],
   "source": []
  }
 ],
 "metadata": {
  "kernelspec": {
   "display_name": "Python 3",
   "language": "python",
   "name": "python3"
  },
  "language_info": {
   "codemirror_mode": {
    "name": "ipython",
    "version": 3
   },
   "file_extension": ".py",
   "mimetype": "text/x-python",
   "name": "python",
   "nbconvert_exporter": "python",
   "pygments_lexer": "ipython3",
   "version": "3.7.4"
  }
 },
 "nbformat": 4,
 "nbformat_minor": 4
}
